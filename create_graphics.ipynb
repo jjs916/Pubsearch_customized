{
 "cells": [
  {
   "cell_type": "code",
   "execution_count": 3,
   "metadata": {},
   "outputs": [
    {
     "ename": "ImportError",
     "evalue": "cannot import name 'common_texification' from 'matplotlib.backends.backend_pgf' (c:\\Python\\Python39\\lib\\site-packages\\matplotlib\\backends\\backend_pgf.py)",
     "output_type": "error",
     "traceback": [
      "\u001b[1;31m---------------------------------------------------------------------------\u001b[0m",
      "\u001b[1;31mImportError\u001b[0m                               Traceback (most recent call last)",
      "Cell \u001b[1;32mIn[3], line 5\u001b[0m\n\u001b[0;32m      2\u001b[0m \u001b[38;5;28;01mimport\u001b[39;00m \u001b[38;5;21;01mpandas\u001b[39;00m \u001b[38;5;28;01mas\u001b[39;00m \u001b[38;5;21;01mpd\u001b[39;00m\n\u001b[0;32m      3\u001b[0m \u001b[38;5;28;01mimport\u001b[39;00m \u001b[38;5;21;01mnumpy\u001b[39;00m \u001b[38;5;28;01mas\u001b[39;00m \u001b[38;5;21;01mnp\u001b[39;00m\n\u001b[1;32m----> 5\u001b[0m \u001b[38;5;28;01mimport\u001b[39;00m \u001b[38;5;21;01mtikzplotlib\u001b[39;00m\n",
      "File \u001b[1;32mc:\\Python\\Python39\\lib\\site-packages\\tikzplotlib\\__init__.py:5\u001b[0m\n\u001b[0;32m      3\u001b[0m \u001b[38;5;28;01mfrom\u001b[39;00m \u001b[38;5;21;01m.\u001b[39;00m\u001b[38;5;21;01m__about__\u001b[39;00m \u001b[38;5;28;01mimport\u001b[39;00m __version__\n\u001b[0;32m      4\u001b[0m \u001b[38;5;28;01mfrom\u001b[39;00m \u001b[38;5;21;01m.\u001b[39;00m\u001b[38;5;21;01m_cleanfigure\u001b[39;00m \u001b[38;5;28;01mimport\u001b[39;00m clean_figure\n\u001b[1;32m----> 5\u001b[0m \u001b[38;5;28;01mfrom\u001b[39;00m \u001b[38;5;21;01m.\u001b[39;00m\u001b[38;5;21;01m_save\u001b[39;00m \u001b[38;5;28;01mimport\u001b[39;00m Flavors, get_tikz_code, save\n\u001b[0;32m      7\u001b[0m __all__ \u001b[38;5;241m=\u001b[39m [\n\u001b[0;32m      8\u001b[0m     \u001b[38;5;124m\"\u001b[39m\u001b[38;5;124m__version__\u001b[39m\u001b[38;5;124m\"\u001b[39m,\n\u001b[0;32m      9\u001b[0m     \u001b[38;5;124m\"\u001b[39m\u001b[38;5;124mget_tikz_code\u001b[39m\u001b[38;5;124m\"\u001b[39m,\n\u001b[1;32m   (...)\u001b[0m\n\u001b[0;32m     12\u001b[0m     \u001b[38;5;124m\"\u001b[39m\u001b[38;5;124mFlavors\u001b[39m\u001b[38;5;124m\"\u001b[39m,\n\u001b[0;32m     13\u001b[0m ]\n",
      "File \u001b[1;32mc:\\Python\\Python39\\lib\\site-packages\\tikzplotlib\\_save.py:11\u001b[0m\n\u001b[0;32m      8\u001b[0m \u001b[38;5;28;01mimport\u001b[39;00m \u001b[38;5;21;01mmatplotlib\u001b[39;00m \u001b[38;5;28;01mas\u001b[39;00m \u001b[38;5;21;01mmpl\u001b[39;00m\n\u001b[0;32m      9\u001b[0m \u001b[38;5;28;01mimport\u001b[39;00m \u001b[38;5;21;01mmatplotlib\u001b[39;00m\u001b[38;5;21;01m.\u001b[39;00m\u001b[38;5;21;01mpyplot\u001b[39;00m \u001b[38;5;28;01mas\u001b[39;00m \u001b[38;5;21;01mplt\u001b[39;00m\n\u001b[1;32m---> 11\u001b[0m \u001b[38;5;28;01mfrom\u001b[39;00m \u001b[38;5;21;01m.\u001b[39;00m \u001b[38;5;28;01mimport\u001b[39;00m _axes\n\u001b[0;32m     12\u001b[0m \u001b[38;5;28;01mfrom\u001b[39;00m \u001b[38;5;21;01m.\u001b[39;00m \u001b[38;5;28;01mimport\u001b[39;00m _image \u001b[38;5;28;01mas\u001b[39;00m img\n\u001b[0;32m     13\u001b[0m \u001b[38;5;28;01mfrom\u001b[39;00m \u001b[38;5;21;01m.\u001b[39;00m \u001b[38;5;28;01mimport\u001b[39;00m _legend, _line2d, _patch, _path\n",
      "File \u001b[1;32mc:\\Python\\Python39\\lib\\site-packages\\tikzplotlib\\_axes.py:3\u001b[0m\n\u001b[0;32m      1\u001b[0m \u001b[38;5;28;01mimport\u001b[39;00m \u001b[38;5;21;01mmatplotlib\u001b[39;00m \u001b[38;5;28;01mas\u001b[39;00m \u001b[38;5;21;01mmpl\u001b[39;00m\n\u001b[0;32m      2\u001b[0m \u001b[38;5;28;01mimport\u001b[39;00m \u001b[38;5;21;01mnumpy\u001b[39;00m \u001b[38;5;28;01mas\u001b[39;00m \u001b[38;5;21;01mnp\u001b[39;00m\n\u001b[1;32m----> 3\u001b[0m \u001b[38;5;28;01mfrom\u001b[39;00m \u001b[38;5;21;01mmatplotlib\u001b[39;00m\u001b[38;5;21;01m.\u001b[39;00m\u001b[38;5;21;01mbackends\u001b[39;00m\u001b[38;5;21;01m.\u001b[39;00m\u001b[38;5;21;01mbackend_pgf\u001b[39;00m \u001b[38;5;28;01mimport\u001b[39;00m (\n\u001b[0;32m      4\u001b[0m     common_texification \u001b[38;5;28;01mas\u001b[39;00m mpl_common_texification,\n\u001b[0;32m      5\u001b[0m )\n\u001b[0;32m      7\u001b[0m \u001b[38;5;28;01mfrom\u001b[39;00m \u001b[38;5;21;01m.\u001b[39;00m \u001b[38;5;28;01mimport\u001b[39;00m _color\n\u001b[0;32m     10\u001b[0m \u001b[38;5;28;01mdef\u001b[39;00m \u001b[38;5;21m_common_texification\u001b[39m(string):\n\u001b[0;32m     11\u001b[0m     \u001b[38;5;66;03m# Work around <https://github.com/matplotlib/matplotlib/issues/15493>\u001b[39;00m\n",
      "\u001b[1;31mImportError\u001b[0m: cannot import name 'common_texification' from 'matplotlib.backends.backend_pgf' (c:\\Python\\Python39\\lib\\site-packages\\matplotlib\\backends\\backend_pgf.py)"
     ]
    }
   ],
   "source": [
    "from matplotlib import pyplot as plt\n",
    "import pandas as pd\n",
    "import numpy as np\n",
    "\n",
    "import tikzplotlib"
   ]
  },
  {
   "cell_type": "code",
   "execution_count": null,
   "metadata": {},
   "outputs": [],
   "source": [
    "### Read out excel sheet\n",
    "\n",
    "rows = [4, 8, 11, 16, 19, 23, 26, 28, 34, 37, 39, 43, 44, 47, 49, 51, 52]\n",
    "\n",
    "excel_sheet = pd.read_excel(\n",
    "                io = 'Master_Students_Germany.xlsx', \n",
    "                sheet_name = 'WS 22-23'\n",
    "                skiprows = lambda x: x not in rows\n",
    "              )"
   ]
  },
  {
   "cell_type": "code",
   "execution_count": null,
   "metadata": {},
   "outputs": [],
   "source": [
    "### extract numbers\n",
    "\n",
    "universities = list(excel_sheet['University'])\n",
    "\n",
    "degree_programs = {\n",
    "    \"Mechanical Engineering\": excel_sheet['Mech'],\n",
    "    \"Electrical Engineering\": excel_sheet['EE'],\n",
    "    \"Computer Science\": excel_sheet['Informatik'],\n",
    "    \"Robotics\": excel_sheet['Robotics'],\n",
    "    \"Others\": excel_sheet['Others']\n",
    "}\n"
   ]
  },
  {
   "cell_type": "code",
   "execution_count": null,
   "metadata": {},
   "outputs": [],
   "source": [
    "### Sort lists according to highest student numbers\n",
    "\n",
    "n = len(universities)\n",
    "\n",
    "cumulated_counts = np.sum([counts for counts in degree_programs.values()], axis=0)\n",
    "\n",
    "sort_index = sorted(range(n), key=lambda k: cumulated_counts[k])\n",
    "sort_index.reverse()\n",
    "\n",
    "universities = [universities[i] for i in sort_index]\n",
    "\n",
    "for degree, counts in degree_programs.items():\n",
    "    degree_programs[degree] = [counts[i] for i in sort_index]"
   ]
  },
  {
   "cell_type": "code",
   "execution_count": null,
   "metadata": {},
   "outputs": [],
   "source": [
    "### visualize\n",
    "\n",
    "width = 0.5\n",
    "\n",
    "fix, ax = plt.subplots()\n",
    "bottom = np.zeros(n)\n",
    "\n",
    "colors = [(0/255, 0/255, 0/255),\n",
    "          (0/255, 101/255, 189/255),\n",
    "          (152/255, 198/255, 234/255), #152,198,234\n",
    "          (227/255, 114/255, 34/255), \n",
    "          (153/255, 153/255, 153/255),]\n",
    "\n",
    "for (degree, count), color in zip(degree_programs.items(), colors):\n",
    "    p = ax.bar(universities, count, width, label=degree, bottom=bottom, color=color)\n",
    "    bottom += count\n",
    "\n",
    "plt.xticks(range(n), universities, rotation=90)\n",
    "\n",
    "# ax.set_title(\"Student Talent Pool for Robotics at German Universities\")\n",
    "# ax.legend()\n",
    "\n",
    "# plt.show()\n",
    "\n",
    "tikzplotlib.save('Robotic_Student_Statistics_Germany.tex')"
   ]
  }
 ],
 "metadata": {
  "kernelspec": {
   "display_name": "Python 3 (ipykernel)",
   "language": "python",
   "name": "python3"
  },
  "language_info": {
   "codemirror_mode": {
    "name": "ipython",
    "version": 3
   },
   "file_extension": ".py",
   "mimetype": "text/x-python",
   "name": "python",
   "nbconvert_exporter": "python",
   "pygments_lexer": "ipython3",
   "version": "3.9.13"
  }
 },
 "nbformat": 4,
 "nbformat_minor": 2
}
